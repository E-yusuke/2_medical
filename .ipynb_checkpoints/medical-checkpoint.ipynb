{
 "cells": [
  {
   "cell_type": "code",
   "execution_count": 1,
   "id": "ee286ddd-4723-40c1-bf9b-6b1c9c457219",
   "metadata": {},
   "outputs": [],
   "source": [
    "import numpy as np\n",
    "import matplotlib.pyplot as plt\n",
    "import os\n",
    "import cv2\n",
    "\n",
    "import torch\n",
    "import torchvision"
   ]
  },
  {
   "cell_type": "code",
   "execution_count": null,
   "id": "14e37f60-1cfb-413e-9826-7fc782ef928a",
   "metadata": {},
   "outputs": [],
   "source": [
    "bgr=cv2.imread(\"C:/Users/nagat/Dev/cv/2_medical/medical_dataset/val/0/1.png\",cv2.IMREAD_COLOR)\n",
    "img = cv2.cvtColor(bgr, cv2.COLOR_BGR2GRAY)\n",
    "# Initiate STAR detector\n",
    "orb = cv2.ORB()\n",
    "\n",
    "# find the keypoints with ORB\n",
    "kp = orb.detect(img,None)\n",
    "\n",
    "# compute the descriptors with ORB\n",
    "kp, des = orb.compute(img, kp)\n",
    "\n",
    "# draw only keypoints location,not size and orientation\n",
    "img2 = cv2.drawKeypoints(img,kp,color=(0,255,0), flags=0)\n",
    "plt.imshow(img2)"
   ]
  },
  {
   "cell_type": "code",
   "execution_count": 2,
   "id": "3fee4463-8584-482e-9086-c119c25f94cf",
   "metadata": {},
   "outputs": [
    {
     "data": {
      "text/plain": [
       "tensor([[0.7019, 0.2683, 0.7932],\n",
       "        [0.7097, 0.1204, 0.6766],\n",
       "        [0.5239, 0.1746, 0.7960],\n",
       "        [0.2521, 0.8383, 0.7064],\n",
       "        [0.3715, 0.3811, 0.0932]])"
      ]
     },
     "execution_count": 2,
     "metadata": {},
     "output_type": "execute_result"
    }
   ],
   "source": []
  },
  {
   "cell_type": "code",
   "execution_count": 3,
   "id": "6f8364b8-33d6-47ae-9429-4a3f45cb3302",
   "metadata": {},
   "outputs": [
    {
     "name": "stdout",
     "output_type": "stream",
     "text": [
      "tensor([[0., 1.],\n",
      "        [2., 3.]])\n",
      "tensor([[0., 1.],\n",
      "        [2., 3.]], requires_grad=True)\n",
      "tensor([[1., 0.],\n",
      "        [1., 4.]], grad_fn=<AddBackward0>)\n",
      "tensor(1.5000, grad_fn=<MeanBackward0>)\n",
      "tensor([[-0.5000,  0.0000],\n",
      "        [ 0.5000,  1.0000]])\n",
      "None\n"
     ]
    },
    {
     "name": "stderr",
     "output_type": "stream",
     "text": [
      "<ipython-input-3-ae9329847c92>:17: UserWarning: The .grad attribute of a Tensor that is not a leaf Tensor is being accessed. Its .grad attribute won't be populated during autograd.backward(). If you indeed want the gradient for a non-leaf Tensor, use .retain_grad() on the non-leaf Tensor. If you access the non-leaf Tensor by mistake, make sure you access the leaf Tensor instead. See github.com/pytorch/pytorch/pull/30531 for more informations.\n",
      "  print(y.grad)\n"
     ]
    }
   ],
   "source": [
    "# sec: 勾配計算のテスト\n",
    "\n",
    "x = torch.arange(4, dtype=torch.float32).view(2, 2)\n",
    "print(x)\n",
    "\n",
    "x.requires_grad_(True)\n",
    "print(x)\n",
    "\n",
    "y = x**2 - 2*x + 1\n",
    "print(y)\n",
    "\n",
    "y_ave = y.mean()\n",
    "print(y_ave)\n",
    "\n",
    "y_ave.backward()\n",
    "print(x.grad)\n",
    "print(y.grad)"
   ]
  },
  {
   "cell_type": "code",
   "execution_count": 4,
   "id": "843ecfc3-ab5f-4c5a-9fec-e5ac4742af9b",
   "metadata": {},
   "outputs": [
    {
     "data": {
      "text/plain": [
       "(4486, 224, 224)"
      ]
     },
     "execution_count": 4,
     "metadata": {},
     "output_type": "execute_result"
    }
   ],
   "source": [
    "\n",
    "file_list = [\"train\", \"test\", \"val\"]\n",
    "train_data=[]\n",
    "val_data=[]\n",
    "test_data=[]\n",
    "image_size=(512,512)\n",
    "\n",
    "dirname=\"C:/Users/nagat/Dev/cv/2_medical/medical_dataset/train/0/\"\n",
    "files =os.listdir(dirname)\n",
    "for fname in files:    #あとはForで1ファイルずつ実行されていく\n",
    "    bgr = cv2.imread(os.path.join(dirname, fname), cv2.IMREAD_COLOR)\n",
    "    gray = cv2.cvtColor(bgr, cv2.COLOR_BGR2GRAY)\n",
    "    #resized = cv2.resize(gray, image_size)\n",
    "    train_data.append(gray)\n",
    "train_data=np.array(train_data)\n",
    "\n",
    "train_data.shape"
   ]
  },
  {
   "cell_type": "code",
   "execution_count": null,
   "id": "7250e5bb-a997-4107-bd74-087160e9ffb4",
   "metadata": {},
   "outputs": [],
   "source": []
  },
  {
   "cell_type": "code",
   "execution_count": 7,
   "id": "713d3ffd-060d-4d0e-8f9f-6c0d6411ef5b",
   "metadata": {},
   "outputs": [
    {
     "data": {
      "text/plain": [
       "<matplotlib.image.AxesImage at 0x1eaf5a498b0>"
      ]
     },
     "execution_count": 7,
     "metadata": {},
     "output_type": "execute_result"
    },
    {
     "data": {
      "image/png": "[encoded data removed]",
      "text/plain": [
       "<Figure size 432x288 with 1 Axes>"
      ]
     },
     "metadata": {
      "needs_background": "light"
     },
     "output_type": "display_data"
    }
   ],
   "source": [
    "plt.imshow(train_data[120,:,:])"
   ]
  },
  {
   "cell_type": "code",
   "execution_count": null,
   "id": "924fa8c4-3193-4126-9444-747c9cef6f79",
   "metadata": {},
   "outputs": [],
   "source": [
    "img = np.asarray(ds[0][0])\n",
    "print(img[20:25, 10:15], img.shape)\n",
    "\n",
    "img = np.asarray(ds[0][0].convert('F'))\n",
    "print(img[20:25, 10:15], img.shape)\n",
    "\n",
    "plt.imshow(img, cmap='gray', interpolation='None')\n",
    "plt.show()"
   ]
  },
  {
   "cell_type": "code",
   "execution_count": null,
   "id": "e2c7fe68-76cc-4a55-ab7e-f0277bf152b5",
   "metadata": {},
   "outputs": [],
   "source": [
    "# sec: TorchのTensorを出力する\n",
    "\n",
    "ds = torchvision.datasets.MNIST(root=\"trains/pytorch-mnist\", train=True, download=True, \n",
    "    transform=torchvision.transforms.ToTensor())\n",
    "\n",
    "# sec: MNISTデータのデータ取り出し・表示\n",
    "\n",
    "img = ds[0][0]\n",
    "print(img[0, 20:25, 10:15], ds[0][0].shape)\n",
    "\n",
    "plt.imshow(img[0, :, :], cmap='gray', interpolation='None')\n",
    "plt.show()"
   ]
  },
  {
   "cell_type": "code",
   "execution_count": null,
   "id": "45c40056-f4c2-4545-9f6b-fc5e87467af8",
   "metadata": {},
   "outputs": [],
   "source": [
    "import torch.nn as nn\n",
    "import torch.nn.functional as F\n",
    "\n",
    "class MyConvNet1(nn.Module):\n",
    "\n",
    "    def __init__(self):\n",
    "        super().__init__()\n",
    "        self.conv1 = nn.Conv2d(1, 5, 3, stride=1, padding=0)\n",
    "        self.conv2 = nn.Conv2d(5, 10, 3, stride=1, padding=0)\n",
    "        self.conv3 = nn.Conv2d(10, 15, 3, stride=1, padding=0)\n",
    "        self.conv4 = nn.Conv2d(15, 20, 3, stride=1, padding=0)\n",
    "        self.bn1 = nn.BatchNorm2d(5)\n",
    "        self.bn2 = nn.BatchNorm2d(10)\n",
    "        self.bn3 = nn.BatchNorm2d(15)\n",
    "        self.bn4 = nn.BatchNorm2d(20)\n",
    "        self.pool1 = nn.MaxPool2d(2)\n",
    "        self.pool2 = nn.MaxPool2d(2)\n",
    "        self.fc1 = nn.Linear(20*4*4, 20)\n",
    "        self.fc2 = nn.Linear(20, 10)\n",
    "        self.drop1 = nn.Dropout(0.5)\n",
    "        self.drop2 = nn.Dropout(0.5)\n",
    "\n",
    "    def forward(self, x):\n",
    "        x = F.relu(self.bn1(self.conv1(x)))\n",
    "        x = F.relu(self.bn2(self.conv2(x)))\n",
    "        x = self.pool1(x)\n",
    "        x = F.relu(self.bn3(self.conv3(x)))\n",
    "        x = F.relu(self.bn4(self.conv4(x)))\n",
    "        x = self.pool2(x)\n",
    "        x = x.view(-1, 20*4*4)\n",
    "        x = F.relu(self.fc1(self.drop1(x)))\n",
    "        x = self.fc2(self.drop2(x))\n",
    "        return x\n",
    "\n",
    "TargetNet = MyConvNet1"
   ]
  },
  {
   "cell_type": "code",
   "execution_count": null,
   "id": "130801e7-e030-480c-8a40-092e5198e643",
   "metadata": {},
   "outputs": [],
   "source": [
    "# sec: test (順伝播計算 ゼロ値を入力)\n",
    "\n",
    "model = TargetNet()\n",
    "y = model(torch.zeros(1, 1, 28, 28))\n",
    "print(y)\n",
    "\n",
    "# sec: test (順伝播計算 MNISTデータを入力)\n",
    "\n",
    "ds = torchvision.datasets.MNIST(root=\"trains/pytorch-mnist\", train=True, download=True, \n",
    "    transform=torchvision.transforms.ToTensor())\n",
    "y = model(ds[0][0].view(1, 1, 28, 28))\n",
    "print(y)"
   ]
  },
  {
   "cell_type": "code",
   "execution_count": null,
   "id": "6b6c7a5f-a5ac-4564-8df1-818c240ef7db",
   "metadata": {},
   "outputs": [],
   "source": [
    "# sec: データセット\n",
    "\n",
    "ds_train = torchvision.datasets.MNIST(root=\"trains/pytorch-mnist\", train=True, download=True, \n",
    "    transform=torchvision.transforms.ToTensor())\n",
    "dl_train = torch.utils.data.DataLoader(ds_train, batch_size=128, shuffle=True, num_workers=2)\n",
    "print(len(ds_train))\n",
    "\n",
    "# sec: 設定\n",
    "\n",
    "model = TargetNet()\n",
    "criterion = nn.CrossEntropyLoss()\n",
    "# case: SGD\n",
    "# optimizer = torch.optim.SGD(model.parameters(), lr=0.001, momentum=0.9)\n",
    "# case: Adam\n",
    "optimizer = torch.optim.Adam(model.parameters(), lr=0.001)\n",
    "# case: end\n",
    "print(model)"
   ]
  },
  {
   "cell_type": "code",
   "execution_count": null,
   "id": "670bd09c-8d74-4cbb-81cd-85562f66add9",
   "metadata": {},
   "outputs": [],
   "source": [
    "# sec: 学習ループ\n",
    "\n",
    "model.train()\n",
    "for i_ep in range(10): # loop over the dataset multiple times\n",
    "\n",
    "    loss_sum = 0.0\n",
    "    for ds_i in dl_train:\n",
    "\n",
    "        inputs, labels = ds_i\n",
    "\n",
    "        optimizer.zero_grad()\n",
    "        outputs = model(inputs) # 順伝播\n",
    "        loss = criterion(outputs, labels)\n",
    "        loss.backward() # 逆伝播\n",
    "        optimizer.step()\n",
    "\n",
    "        loss_sum += loss.item()\n",
    "\n",
    "    # sec: print\n",
    "\n",
    "    print('%dep loss: %.5f' % (i_ep + 1, loss_sum / len(ds_train)))\n",
    "\n",
    "n_ep = i_ep + 1\n",
    "print('Finished Training')"
   ]
  },
  {
   "cell_type": "code",
   "execution_count": null,
   "id": "96dda604-cb42-4d47-9595-6b30b62a2a88",
   "metadata": {},
   "outputs": [],
   "source": [
    "# sec: データセット\n",
    "\n",
    "ds_vali = torchvision.datasets.MNIST(root=\"trains/pytorch-mnist\", train=True, download=True, \n",
    "    transform=torchvision.transforms.ToTensor())\n",
    "ds_vali, _ = torch.utils.data.random_split(ds_vali, [1000, len(ds_vali) - 1000]) # イマイチな書き方\n",
    "dl_vali = torch.utils.data.DataLoader(ds_vali, batch_size=128, shuffle=False, num_workers=2)\n",
    "print(len(ds_vali))"
   ]
  },
  {
   "cell_type": "code",
   "execution_count": null,
   "id": "f44b8690-b701-418e-9276-5c1550021982",
   "metadata": {},
   "outputs": [],
   "source": [
    "# sec: バリデーション例\n",
    "\n",
    "model.eval() # 必要 trainのままだとdropoutの効果が残り精度劣化 90.0%で低迷\n",
    "loss_sum = 0\n",
    "n_correct = 0\n",
    "for ds_i in dl_vali:\n",
    "\n",
    "    inputs, labels = ds_i\n",
    "\n",
    "    with torch.no_grad():\n",
    "\n",
    "        outputs = model(inputs) # 順伝播\n",
    "        loss = criterion(outputs, labels)\n",
    "\n",
    "        loss_sum += loss.item()\n",
    "\n",
    "        _, preds = torch.max(outputs, dim=1) # (max values, arg indices)\n",
    "        n_correct += (preds == labels).sum()\n",
    "\n",
    "# sec: print\n",
    "\n",
    "print('loss: %.2e, accuracy: %.2f' % (loss_sum / len(ds_vali), float(n_correct) / len(ds_vali) * 100))"
   ]
  },
  {
   "cell_type": "code",
   "execution_count": null,
   "id": "ab4a07a3-e3bd-4ade-9d4d-006763c04c46",
   "metadata": {},
   "outputs": [],
   "source": [
    "# sec: 画像を描画\n",
    "\n",
    "ds_test = torchvision.datasets.MNIST(root=\"trains/pytorch-mnist\", train=False, download=True, \n",
    "    transform=torchvision.transforms.ToTensor())\n",
    "\n",
    "x, label = ds_test[np.random.randint(0, len(ds_test))]\n",
    "plt.imshow(x[0], cmap='gray', interpolation=\"none\")\n",
    "plt.show()\n",
    "\n",
    "# sec: 1回の評価\n",
    "\n",
    "model.eval()\n",
    "x = x[None] # 1軸を追加\n",
    "with torch.no_grad():\n",
    "    y = model(x)\n",
    "\n",
    "print(\"予測ラベル:\", y.numpy().argmax(axis=1)[0], \"| 真値ラベル:\", label)"
   ]
  },
  {
   "cell_type": "code",
   "execution_count": null,
   "id": "1efcb350-e10d-4fc1-b1e4-903ad9c0469a",
   "metadata": {},
   "outputs": [],
   "source": [
    "# sec: データセット\n",
    "\n",
    "ds_test = torchvision.datasets.MNIST(root=\"trains/pytorch-mnist\", train=False, download=True, \n",
    "    transform=torchvision.transforms.ToTensor())\n",
    "dl_test = torch.utils.data.DataLoader(ds_test, batch_size=128, shuffle=False, num_workers=2)\n",
    "print(len(ds_test))"
   ]
  },
  {
   "cell_type": "code",
   "execution_count": null,
   "id": "8756a065-8a9b-41a7-bcb7-7aa1abad27f7",
   "metadata": {},
   "outputs": [],
   "source": [
    "# sec: テスト例\n",
    "\n",
    "model.eval()\n",
    "loss_sum = 0\n",
    "list_pred, list_label = [], []\n",
    "for ds_i in dl_test:\n",
    "\n",
    "    inputs, labels = ds_i\n",
    "\n",
    "    with torch.no_grad():\n",
    "\n",
    "        outputs = model(inputs) # 順伝播\n",
    "        loss = criterion(outputs, labels)\n",
    "\n",
    "        loss_sum += loss.item()\n",
    "\n",
    "        _, preds = torch.max(outputs, dim=1) # (max values, arg indices)\n",
    "        list_pred.extend(preds)\n",
    "        list_label.extend(labels)\n",
    "\n",
    "list_pred = np.array(list_pred)\n",
    "list_label = np.array(list_label)\n",
    "\n",
    "# sec: print\n",
    "\n",
    "print('loss: %.2e, accuracy: %.2f' % (loss_sum / len(ds_test), (list_pred == list_label).sum() / len(ds_test) * 100))"
   ]
  },
  {
   "cell_type": "code",
   "execution_count": null,
   "id": "310b2ff3-a30c-4a87-a9fe-4976485410b8",
   "metadata": {},
   "outputs": [],
   "source": [
    "# sec: precision, recall, fscore, supportを見る\n",
    "\n",
    "res_prf = sklearn.metrics.precision_recall_fscore_support(list_label, list_pred)\n",
    "\n",
    "print(\"precision, recall, fscore, supportを見る:\")\n",
    "print(res_prf)\n",
    "\n",
    "fig = plt.figure()\n",
    "ax = fig.add_subplot(111)\n",
    "ax.bar(np.arange(10) - 0.2, res_prf[0], width=0.4, label=\"precision\")\n",
    "ax.bar(np.arange(10) + 0.2, res_prf[1], width=0.4, label=\"recall\")\n",
    "ax.plot(np.arange(10), res_prf[2], 'r_', ms=12, label=\"f\")\n",
    "ax.legend(fontsize=9, framealpha=0.5, labelspacing=0.2)\n",
    "ax.set_ylim([0.97, 1.0])\n",
    "plt.show()"
   ]
  },
  {
   "cell_type": "code",
   "execution_count": null,
   "id": "f1052281-ed33-4ee2-9dad-e2db9960e3d6",
   "metadata": {},
   "outputs": [],
   "source": [
    "# sec: 混同行列を見る\n",
    "\n",
    "sklearn.metrics.confusion_matrix(list_label, list_pred)"
   ]
  }
 ],
 "metadata": {
  "kernelspec": {
   "display_name": "Python 3",
   "language": "python",
   "name": "python3"
  },
  "language_info": {
   "codemirror_mode": {
    "name": "ipython",
    "version": 3
   },
   "file_extension": ".py",
   "mimetype": "text/x-python",
   "name": "python",
   "nbconvert_exporter": "python",
   "pygments_lexer": "ipython3",
   "version": "3.9.2"
  }
 },
 "nbformat": 4,
 "nbformat_minor": 5
}
